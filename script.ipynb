{
 "cells": [
  {
   "cell_type": "code",
   "execution_count": 1,
   "id": "8cf63612-a1ec-4151-87cb-942948ac0561",
   "metadata": {},
   "outputs": [],
   "source": [
    "import pandas as pd\n",
    "import requests\n",
    "from io import StringIO"
   ]
  },
  {
   "cell_type": "code",
   "execution_count": 2,
   "id": "e3023cb6-acba-437e-a82f-dabaddb15d53",
   "metadata": {},
   "outputs": [],
   "source": [
    "access_token = \"0baaf4e1832be5782d9833889675dccf\"\n",
    "headers = {\"Authorization\": f\"Bearer {access_token}\"}"
   ]
  },
  {
   "cell_type": "code",
   "execution_count": 3,
   "id": "e7776230-834b-4f37-8cf0-4a984a4c4391",
   "metadata": {},
   "outputs": [],
   "source": [
    "base_url = \"https://it-hiring.blackbird.vc\"\n",
    "crm_url = f\"{base_url}/api/data/crm\"\n",
    "form_url = f\"{base_url}/api/data/form-submissions\""
   ]
  },
  {
   "cell_type": "code",
   "execution_count": 4,
   "id": "8350dbec-8f78-4d4a-9df3-7cdd9664b97e",
   "metadata": {},
   "outputs": [
    {
     "name": "stdout",
     "output_type": "stream",
     "text": [
      "CRM data loaded.\n"
     ]
    },
    {
     "data": {
      "text/html": [
       "<div>\n",
       "<style scoped>\n",
       "    .dataframe tbody tr th:only-of-type {\n",
       "        vertical-align: middle;\n",
       "    }\n",
       "\n",
       "    .dataframe tbody tr th {\n",
       "        vertical-align: top;\n",
       "    }\n",
       "\n",
       "    .dataframe thead th {\n",
       "        text-align: right;\n",
       "    }\n",
       "</style>\n",
       "<table border=\"1\" class=\"dataframe\">\n",
       "  <thead>\n",
       "    <tr style=\"text-align: right;\">\n",
       "      <th></th>\n",
       "      <th>id</th>\n",
       "      <th>first</th>\n",
       "      <th>last</th>\n",
       "      <th>email</th>\n",
       "      <th>phone</th>\n",
       "      <th>last contact date</th>\n",
       "      <th>last contact text</th>\n",
       "      <th>all contact text</th>\n",
       "    </tr>\n",
       "  </thead>\n",
       "  <tbody>\n",
       "    <tr>\n",
       "      <th>0</th>\n",
       "      <td>bfx-1116</td>\n",
       "      <td>Jack</td>\n",
       "      <td>North</td>\n",
       "      <td>jn231@hotmail.test.com</td>\n",
       "      <td>6.139008e+10</td>\n",
       "      <td>2025-01-19</td>\n",
       "      <td>Gave positive feedback about the overall organ...</td>\n",
       "      <td>2025-01-19 - Gave positive feedback about the ...</td>\n",
       "    </tr>\n",
       "    <tr>\n",
       "      <th>1</th>\n",
       "      <td>bfx-9131</td>\n",
       "      <td>Alice</td>\n",
       "      <td>South</td>\n",
       "      <td>asouth@bigpond.com</td>\n",
       "      <td>NaN</td>\n",
       "      <td>2023-07-22</td>\n",
       "      <td>Found the latest newsletter about 'Q4 2024 Com...</td>\n",
       "      <td>2023-07-22 - Found the latest newsletter about...</td>\n",
       "    </tr>\n",
       "    <tr>\n",
       "      <th>2</th>\n",
       "      <td>bfx-3367</td>\n",
       "      <td>Kanye</td>\n",
       "      <td>West</td>\n",
       "      <td>big.dawg.99@hotmail.test.com</td>\n",
       "      <td>6.137481e+10</td>\n",
       "      <td>2022-07-04</td>\n",
       "      <td>Engaged actively during the Q&amp;A session at the...</td>\n",
       "      <td>2022-07-04 - Engaged actively during the Q&amp;A s...</td>\n",
       "    </tr>\n",
       "    <tr>\n",
       "      <th>3</th>\n",
       "      <td>bfx-7190</td>\n",
       "      <td>Bev</td>\n",
       "      <td>East</td>\n",
       "      <td>NaN</td>\n",
       "      <td>6.137492e+10</td>\n",
       "      <td>2023-11-16</td>\n",
       "      <td>Gave positive feedback about the overall organ...</td>\n",
       "      <td>2023-11-16 - Gave positive feedback about the ...</td>\n",
       "    </tr>\n",
       "    <tr>\n",
       "      <th>4</th>\n",
       "      <td>bfx-9147</td>\n",
       "      <td>Margaret</td>\n",
       "      <td>Piper</td>\n",
       "      <td>mpiper@black-bird-email.com</td>\n",
       "      <td>NaN</td>\n",
       "      <td>2023-02-10</td>\n",
       "      <td>Really enjoyed the networking opportunities at...</td>\n",
       "      <td>2023-02-10 - Really enjoyed the networking opp...</td>\n",
       "    </tr>\n",
       "  </tbody>\n",
       "</table>\n",
       "</div>"
      ],
      "text/plain": [
       "         id     first   last                         email         phone  \\\n",
       "0  bfx-1116      Jack  North        jn231@hotmail.test.com  6.139008e+10   \n",
       "1  bfx-9131     Alice  South            asouth@bigpond.com           NaN   \n",
       "2  bfx-3367     Kanye   West  big.dawg.99@hotmail.test.com  6.137481e+10   \n",
       "3  bfx-7190       Bev   East                           NaN  6.137492e+10   \n",
       "4  bfx-9147  Margaret  Piper   mpiper@black-bird-email.com           NaN   \n",
       "\n",
       "  last contact date                                  last contact text  \\\n",
       "0        2025-01-19  Gave positive feedback about the overall organ...   \n",
       "1        2023-07-22  Found the latest newsletter about 'Q4 2024 Com...   \n",
       "2        2022-07-04  Engaged actively during the Q&A session at the...   \n",
       "3        2023-11-16  Gave positive feedback about the overall organ...   \n",
       "4        2023-02-10  Really enjoyed the networking opportunities at...   \n",
       "\n",
       "                                    all contact text  \n",
       "0  2025-01-19 - Gave positive feedback about the ...  \n",
       "1  2023-07-22 - Found the latest newsletter about...  \n",
       "2  2022-07-04 - Engaged actively during the Q&A s...  \n",
       "3  2023-11-16 - Gave positive feedback about the ...  \n",
       "4  2023-02-10 - Really enjoyed the networking opp...  "
      ]
     },
     "metadata": {},
     "output_type": "display_data"
    }
   ],
   "source": [
    "crm_response = requests.get(crm_url, headers=headers)\n",
    "crm_df = pd.read_csv(StringIO(crm_response.text))\n",
    "print(\"CRM data loaded.\")\n",
    "display(crm_df.head())"
   ]
  },
  {
   "cell_type": "code",
   "execution_count": 5,
   "id": "e72a8d94-0080-4a03-b730-2a8275ba88f3",
   "metadata": {},
   "outputs": [
    {
     "name": "stdout",
     "output_type": "stream",
     "text": [
      "Feedback form data loaded.\n"
     ]
    },
    {
     "data": {
      "text/html": [
       "<div>\n",
       "<style scoped>\n",
       "    .dataframe tbody tr th:only-of-type {\n",
       "        vertical-align: middle;\n",
       "    }\n",
       "\n",
       "    .dataframe tbody tr th {\n",
       "        vertical-align: top;\n",
       "    }\n",
       "\n",
       "    .dataframe thead th {\n",
       "        text-align: right;\n",
       "    }\n",
       "</style>\n",
       "<table border=\"1\" class=\"dataframe\">\n",
       "  <thead>\n",
       "    <tr style=\"text-align: right;\">\n",
       "      <th></th>\n",
       "      <th>email</th>\n",
       "      <th>message</th>\n",
       "      <th>name</th>\n",
       "      <th>phone</th>\n",
       "      <th>timestamp</th>\n",
       "    </tr>\n",
       "  </thead>\n",
       "  <tbody>\n",
       "    <tr>\n",
       "      <th>0</th>\n",
       "      <td>jn231@hotmail.test.com</td>\n",
       "      <td>The offsite was fantastic</td>\n",
       "      <td>Jack North</td>\n",
       "      <td>+61390084499</td>\n",
       "      <td>2025-04-01</td>\n",
       "    </tr>\n",
       "    <tr>\n",
       "      <th>1</th>\n",
       "      <td>asouth@bigpond.com</td>\n",
       "      <td>More coffee next time</td>\n",
       "      <td>Alison South</td>\n",
       "      <td>+61383128784</td>\n",
       "      <td>2025-04-01</td>\n",
       "    </tr>\n",
       "    <tr>\n",
       "      <th>2</th>\n",
       "      <td>kanye@kanye.com</td>\n",
       "      <td>More tunes</td>\n",
       "      <td>kanye</td>\n",
       "      <td>+61374813443</td>\n",
       "      <td>2025-04-01</td>\n",
       "    </tr>\n",
       "    <tr>\n",
       "      <th>3</th>\n",
       "      <td>beverly.east@yahoo.com</td>\n",
       "      <td>Location could have been better</td>\n",
       "      <td>Beverly East</td>\n",
       "      <td>+61374921338</td>\n",
       "      <td>2025-04-02</td>\n",
       "    </tr>\n",
       "    <tr>\n",
       "      <th>4</th>\n",
       "      <td>mpiper@black-bird-email.com</td>\n",
       "      <td>I had some great conversations</td>\n",
       "      <td>Margeret piper</td>\n",
       "      <td>+61364574723</td>\n",
       "      <td>2025-04-02</td>\n",
       "    </tr>\n",
       "  </tbody>\n",
       "</table>\n",
       "</div>"
      ],
      "text/plain": [
       "                         email                          message  \\\n",
       "0       jn231@hotmail.test.com        The offsite was fantastic   \n",
       "1           asouth@bigpond.com            More coffee next time   \n",
       "2              kanye@kanye.com                       More tunes   \n",
       "3       beverly.east@yahoo.com  Location could have been better   \n",
       "4  mpiper@black-bird-email.com   I had some great conversations   \n",
       "\n",
       "             name         phone   timestamp  \n",
       "0      Jack North  +61390084499  2025-04-01  \n",
       "1   Alison South   +61383128784  2025-04-01  \n",
       "2          kanye   +61374813443  2025-04-01  \n",
       "3    Beverly East  +61374921338  2025-04-02  \n",
       "4  Margeret piper  +61364574723  2025-04-02  "
      ]
     },
     "metadata": {},
     "output_type": "display_data"
    }
   ],
   "source": [
    "form_response = requests.get(form_url, headers=headers)\n",
    "form_data = form_response.json()\n",
    "form_df = pd.json_normalize(form_data[\"data\"])\n",
    "print(\"Feedback form data loaded.\")\n",
    "display(form_df.head())"
   ]
  },
  {
   "cell_type": "code",
   "execution_count": null,
   "id": "7a2f95cb-d77f-44fe-ae31-d6f1a601612d",
   "metadata": {},
   "outputs": [],
   "source": [
    "form_df[[\"first_form\", \"last_form\"]] = form_df[\"name\"].str.extract(r'^(\\S+)\\s+(.*)$')\n",
    "\n",
    "form_df.rename(columns={\n",
    "    \"email\": \"email\",\n",
    "    \"phone\": \"phone_form\",\n",
    "    \"timestamp\": \"last contact date\",\n",
    "    \"message\": \"last contact text\"\n",
    "}, inplace=True)"
   ]
  },
  {
   "cell_type": "code",
   "execution_count": 8,
   "id": "7e78c0c1-9bc2-47ee-bbf1-8663591e315a",
   "metadata": {},
   "outputs": [],
   "source": [
    "form_df[\"all contact text\"] = form_df[\"last contact text\"]"
   ]
  },
  {
   "cell_type": "code",
   "execution_count": 9,
   "id": "d4041021-cdd0-4454-82ae-303ebc05aeeb",
   "metadata": {},
   "outputs": [],
   "source": [
    "merged_df = pd.merge(crm_df, form_df, on=\"email\", how=\"outer\", suffixes=(\"\", \"_form\"))\n"
   ]
  },
  {
   "cell_type": "code",
   "execution_count": 10,
   "id": "d380990d-2734-46a4-b8e3-3c8d76180af9",
   "metadata": {},
   "outputs": [],
   "source": [
    "merged_df[\"first\"] = merged_df[\"first\"].combine_first(merged_df[\"first_form\"])\n",
    "merged_df[\"last\"] = merged_df[\"last\"].combine_first(merged_df[\"last_form\"])\n",
    "merged_df[\"phone\"] = merged_df[\"phone\"].combine_first(merged_df[\"phone_form\"])\n"
   ]
  },
  {
   "cell_type": "code",
   "execution_count": 11,
   "id": "131fda57-6044-41a5-a14e-00090c124339",
   "metadata": {},
   "outputs": [],
   "source": [
    "merged_df[\"last contact date\"] = merged_df[\"last contact date_form\"]\n",
    "merged_df[\"last contact text\"] = merged_df[\"last contact text_form\"]\n"
   ]
  },
  {
   "cell_type": "code",
   "execution_count": 12,
   "id": "8ed326a5-daef-47e0-b7ae-cd6c37a30bba",
   "metadata": {},
   "outputs": [],
   "source": [
    "merged_df[\"all contact text\"] = merged_df[\"all contact text\"].fillna(\"\") + \" | \" + merged_df[\"last contact text\"].fillna(\"\")\n"
   ]
  },
  {
   "cell_type": "code",
   "execution_count": 13,
   "id": "a4d5a177-6dc6-4370-8fbd-f68898aeffcd",
   "metadata": {},
   "outputs": [],
   "source": [
    "if merged_df[\"id\"].isnull().any():\n",
    "    max_id = pd.to_numeric(merged_df[\"id\"].str.extract(r\"(\\d+)\", expand=False), errors=\"coerce\").dropna().astype(int).max()\n",
    "    new_ids = [f\"bfx-{max_id + i + 1}\" for i in range(merged_df[\"id\"].isnull().sum())]\n",
    "    merged_df.loc[merged_df[\"id\"].isnull(), \"id\"] = new_ids\n"
   ]
  },
  {
   "cell_type": "code",
   "execution_count": 14,
   "id": "5f8e91ab-e1bd-4941-975f-fc0776080aae",
   "metadata": {},
   "outputs": [],
   "source": [
    "final_df = merged_df[[\n",
    "    \"id\", \"first\", \"last\", \"email\", \"phone\",\n",
    "    \"last contact date\", \"last contact text\", \"all contact text\"\n",
    "]]"
   ]
  },
  {
   "cell_type": "code",
   "execution_count": 15,
   "id": "91eb5c43-7ba2-4efd-8dae-5b38fea8849a",
   "metadata": {},
   "outputs": [
    {
     "name": "stdout",
     "output_type": "stream",
     "text": [
      "crm_update.csv has been generated.\n"
     ]
    }
   ],
   "source": [
    "final_df.to_csv(\"crm_update.csv\", index=False)\n",
    "print(\"crm_update.csv has been generated.\")"
   ]
  }
 ],
 "metadata": {
  "kernelspec": {
   "display_name": "Python [conda env:base] *",
   "language": "python",
   "name": "conda-base-py"
  },
  "language_info": {
   "codemirror_mode": {
    "name": "ipython",
    "version": 3
   },
   "file_extension": ".py",
   "mimetype": "text/x-python",
   "name": "python",
   "nbconvert_exporter": "python",
   "pygments_lexer": "ipython3",
   "version": "3.12.7"
  }
 },
 "nbformat": 4,
 "nbformat_minor": 5
}
